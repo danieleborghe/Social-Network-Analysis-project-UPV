{
 "cells": [
  {
   "cell_type": "markdown",
   "metadata": {},
   "source": [
    "# Spotify Artist Feature Collaboration Network Analysis\n",
    "## Part 1\n",
    "\n",
    "---\n",
    "\n",
    "## Introduction\n",
    "\n",
    "In this notebook, I will perform an analysis of the Spotify Artist Feature Collaboration Network. The dataset consists of artist data for approximately 20,000 artists whose songs made it to the Spotify weekly charts. Additionally, it includes data for approximately 136,000 additional artists who had at least one feature with at least one of the chart artists. This dataset allows us to construct a network with over 135,000 musicians as nodes and more than 300,000 collaboration edges between them.\n",
    "\n",
    "---\n",
    "\n",
    "## About the Author\n",
    "\n",
    "**Name:** Daniele Borghesi\n",
    "\n",
    "**Affiliation:** University of Pisa & Technical University of Valencia\n",
    "\n",
    "**Contact:** dborghe@etsinf.upv.es\n",
    "\n",
    "**GitHub:** https://github.com/danieleborghe\n",
    "\n",
    "**LinkedIn:** https://www.linkedin.com/in/danieleborghesi/\n",
    "\n",
    "\n",
    "---"
   ]
  },
  {
   "cell_type": "markdown",
   "metadata": {},
   "source": [
    "## 1 Data Download and Cleaning\n"
   ]
  },
  {
   "cell_type": "code",
   "execution_count": 5,
   "metadata": {},
   "outputs": [],
   "source": [
    "import pandas as pd"
   ]
  },
  {
   "cell_type": "markdown",
   "metadata": {},
   "source": [
    "### 1.1 Data Download\n",
    "- **Dataset:** Spotify Artist Feature Collaboration Network\n",
    "- **Source:** https://www.kaggle.com/datasets/jfreyberg/spotify-artist-feature-collaboration-network?resource=download\n",
    "- **Description:** The dataset consists of two CSV files:\n",
    "  - **edges.csv:** Contains edges (features) between artists listed in nodes.csv. The edges are undirected and stored only once. Note that id_0 < id_1 according to alphabetical order, meaning a collaboration between artist A and artist B is stored as id_0:A, id_1:B. It's important to note that only the features of the original 20k seed artists were scraped, meaning non-seed artists do not have features between them in this dataset even if they have them in reality.\n",
    "  - **nodes.csv:** Contains artist information scraped from the Spotify API and kworb.net."
   ]
  },
  {
   "cell_type": "code",
   "execution_count": 6,
   "metadata": {},
   "outputs": [],
   "source": [
    "edges_df = pd.read_csv(\"data/edges.csv\")\n",
    "nodes_df = pd.read_csv(\"data/nodes.csv\")"
   ]
  },
  {
   "cell_type": "code",
   "execution_count": 7,
   "metadata": {},
   "outputs": [
    {
     "name": "stdout",
     "output_type": "stream",
     "text": [
      "Number of nodes (artists):  156422\n"
     ]
    },
    {
     "data": {
      "text/html": [
       "<div>\n",
       "<style scoped>\n",
       "    .dataframe tbody tr th:only-of-type {\n",
       "        vertical-align: middle;\n",
       "    }\n",
       "\n",
       "    .dataframe tbody tr th {\n",
       "        vertical-align: top;\n",
       "    }\n",
       "\n",
       "    .dataframe thead th {\n",
       "        text-align: right;\n",
       "    }\n",
       "</style>\n",
       "<table border=\"1\" class=\"dataframe\">\n",
       "  <thead>\n",
       "    <tr style=\"text-align: right;\">\n",
       "      <th></th>\n",
       "      <th>spotify_id</th>\n",
       "      <th>name</th>\n",
       "      <th>followers</th>\n",
       "      <th>popularity</th>\n",
       "      <th>genres</th>\n",
       "      <th>chart_hits</th>\n",
       "    </tr>\n",
       "  </thead>\n",
       "  <tbody>\n",
       "    <tr>\n",
       "      <th>0</th>\n",
       "      <td>48WvrUGoijadXXCsGocwM4</td>\n",
       "      <td>Byklubben</td>\n",
       "      <td>1738.0</td>\n",
       "      <td>24</td>\n",
       "      <td>['nordic house', 'russelater']</td>\n",
       "      <td>['no (3)']</td>\n",
       "    </tr>\n",
       "    <tr>\n",
       "      <th>1</th>\n",
       "      <td>4lDiJcOJ2GLCK6p9q5BgfK</td>\n",
       "      <td>Kontra K</td>\n",
       "      <td>1999676.0</td>\n",
       "      <td>72</td>\n",
       "      <td>['christlicher rap', 'german hip hop']</td>\n",
       "      <td>['at (44)', 'de (111)', 'lu (22)', 'ch (31)', ...</td>\n",
       "    </tr>\n",
       "    <tr>\n",
       "      <th>2</th>\n",
       "      <td>652XIvIBNGg3C0KIGEJWit</td>\n",
       "      <td>Maxim</td>\n",
       "      <td>34596.0</td>\n",
       "      <td>36</td>\n",
       "      <td>[]</td>\n",
       "      <td>['de (1)']</td>\n",
       "    </tr>\n",
       "    <tr>\n",
       "      <th>3</th>\n",
       "      <td>3dXC1YPbnQPsfHPVkm1ipj</td>\n",
       "      <td>Christopher Martin</td>\n",
       "      <td>249233.0</td>\n",
       "      <td>52</td>\n",
       "      <td>['dancehall', 'lovers rock', 'modern reggae', ...</td>\n",
       "      <td>['at (1)', 'de (1)']</td>\n",
       "    </tr>\n",
       "    <tr>\n",
       "      <th>4</th>\n",
       "      <td>74terC9ol9zMo8rfzhSOiG</td>\n",
       "      <td>Jakob Hellman</td>\n",
       "      <td>21193.0</td>\n",
       "      <td>39</td>\n",
       "      <td>['classic swedish pop', 'norrbotten indie', 's...</td>\n",
       "      <td>['se (6)']</td>\n",
       "    </tr>\n",
       "  </tbody>\n",
       "</table>\n",
       "</div>"
      ],
      "text/plain": [
       "               spotify_id                name  followers  popularity  \\\n",
       "0  48WvrUGoijadXXCsGocwM4           Byklubben     1738.0          24   \n",
       "1  4lDiJcOJ2GLCK6p9q5BgfK            Kontra K  1999676.0          72   \n",
       "2  652XIvIBNGg3C0KIGEJWit               Maxim    34596.0          36   \n",
       "3  3dXC1YPbnQPsfHPVkm1ipj  Christopher Martin   249233.0          52   \n",
       "4  74terC9ol9zMo8rfzhSOiG       Jakob Hellman    21193.0          39   \n",
       "\n",
       "                                              genres  \\\n",
       "0                     ['nordic house', 'russelater']   \n",
       "1             ['christlicher rap', 'german hip hop']   \n",
       "2                                                 []   \n",
       "3  ['dancehall', 'lovers rock', 'modern reggae', ...   \n",
       "4  ['classic swedish pop', 'norrbotten indie', 's...   \n",
       "\n",
       "                                          chart_hits  \n",
       "0                                         ['no (3)']  \n",
       "1  ['at (44)', 'de (111)', 'lu (22)', 'ch (31)', ...  \n",
       "2                                         ['de (1)']  \n",
       "3                               ['at (1)', 'de (1)']  \n",
       "4                                         ['se (6)']  "
      ]
     },
     "execution_count": 7,
     "metadata": {},
     "output_type": "execute_result"
    }
   ],
   "source": [
    "print(\"Number of nodes (artists): \", len(nodes_df))\n",
    "nodes_df.head()"
   ]
  },
  {
   "cell_type": "code",
   "execution_count": 8,
   "metadata": {},
   "outputs": [
    {
     "name": "stdout",
     "output_type": "stream",
     "text": [
      "Number of edges (collaborations between artists):  300386\n"
     ]
    },
    {
     "data": {
      "text/html": [
       "<div>\n",
       "<style scoped>\n",
       "    .dataframe tbody tr th:only-of-type {\n",
       "        vertical-align: middle;\n",
       "    }\n",
       "\n",
       "    .dataframe tbody tr th {\n",
       "        vertical-align: top;\n",
       "    }\n",
       "\n",
       "    .dataframe thead th {\n",
       "        text-align: right;\n",
       "    }\n",
       "</style>\n",
       "<table border=\"1\" class=\"dataframe\">\n",
       "  <thead>\n",
       "    <tr style=\"text-align: right;\">\n",
       "      <th></th>\n",
       "      <th>id_0</th>\n",
       "      <th>id_1</th>\n",
       "    </tr>\n",
       "  </thead>\n",
       "  <tbody>\n",
       "    <tr>\n",
       "      <th>0</th>\n",
       "      <td>76M2Ekj8bG8W7X2nbx2CpF</td>\n",
       "      <td>7sfl4Xt5KmfyDs2T3SVSMK</td>\n",
       "    </tr>\n",
       "    <tr>\n",
       "      <th>1</th>\n",
       "      <td>0hk4xVujcyOr6USD95wcWb</td>\n",
       "      <td>7Do8se3ZoaVqUt3woqqSrD</td>\n",
       "    </tr>\n",
       "    <tr>\n",
       "      <th>2</th>\n",
       "      <td>38jpuy3yt3QIxQ8Fn1HTeJ</td>\n",
       "      <td>4csQIMQm6vI2A2SCVDuM2z</td>\n",
       "    </tr>\n",
       "    <tr>\n",
       "      <th>3</th>\n",
       "      <td>6PvcxssrQ0QaJVaBWHD07l</td>\n",
       "      <td>6UCQYrcJ6wab6gnQ89OJFh</td>\n",
       "    </tr>\n",
       "    <tr>\n",
       "      <th>4</th>\n",
       "      <td>2R1QrQqWuw3IjoP5dXRFjt</td>\n",
       "      <td>4mk1ScvOUkuQzzCZpT6bc0</td>\n",
       "    </tr>\n",
       "  </tbody>\n",
       "</table>\n",
       "</div>"
      ],
      "text/plain": [
       "                     id_0                    id_1\n",
       "0  76M2Ekj8bG8W7X2nbx2CpF  7sfl4Xt5KmfyDs2T3SVSMK\n",
       "1  0hk4xVujcyOr6USD95wcWb  7Do8se3ZoaVqUt3woqqSrD\n",
       "2  38jpuy3yt3QIxQ8Fn1HTeJ  4csQIMQm6vI2A2SCVDuM2z\n",
       "3  6PvcxssrQ0QaJVaBWHD07l  6UCQYrcJ6wab6gnQ89OJFh\n",
       "4  2R1QrQqWuw3IjoP5dXRFjt  4mk1ScvOUkuQzzCZpT6bc0"
      ]
     },
     "execution_count": 8,
     "metadata": {},
     "output_type": "execute_result"
    }
   ],
   "source": [
    "print(\"Number of edges (collaborations between artists): \", len(edges_df))\n",
    "edges_df.head()"
   ]
  },
  {
   "cell_type": "markdown",
   "metadata": {},
   "source": [
    "### 1.2 Context Explanation\n",
    "\n",
    "The Spotify Artist Feature Collaboration Network dataset provides valuable insights into the collaborative relationships between artists on the Spotify platform. It comprises artist data for approximately 20,000 artists whose songs have made it to the Spotify weekly charts, along with additional data for about 136,000 artists who have had at least one feature with one of the chart artists. This dataset enables the construction of a comprehensive network representation of the collaboration patterns within the music industry.\n",
    "\n",
    "Understanding the structure and dynamics of this network can offer insights into various aspects, including the influence of artists, the prevalence of collaborations, and the emergence of musical trends. By analyzing the network properties and centrality measures, we can identify key players, influential nodes, and community structures, shedding light on the underlying mechanisms driving collaboration and success in the music industry.\n",
    "\n",
    "**Data Dictionary for nodes.csv:**\n",
    "\n",
    "- **spotify_id**: ID of the artist on Spotify.\n",
    "- **name**: Name of the artist.\n",
    "- **followers**: Number of followers of the artist on Spotify.\n",
    "- **popularity**: Popularity score of the artist on Spotify.\n",
    "- **genres**: List of genres associated with the artist, obtained from the Spotify API.\n",
    "- **chart_hits**: List showing the number of Spotify chart hits in different countries, obtained from kworb.net.\n",
    "\n",
    "**Data Dictionary for edges.csv:**\n",
    "\n",
    "- **id_0**: ID of the artist on Spotify for the first artist involved in a collaboration (edge).\n",
    "- **id_1**: ID of the artist on Spotify for the second artist involved in a collaboration (edge)."
   ]
  },
  {
   "cell_type": "markdown",
   "metadata": {},
   "source": [
    "### 1.3 Data Cleaning\n",
    "**Preprocessing Steps:**\n",
    "- Handling missing values\n",
    "- Removing duplicates\n",
    "- Standardizing data formats, if necessary"
   ]
  },
  {
   "cell_type": "code",
   "execution_count": 9,
   "metadata": {},
   "outputs": [
    {
     "name": "stdout",
     "output_type": "stream",
     "text": [
      "Missing Values in Nodes DataFrame:\n",
      "spotify_id         0\n",
      "name               4\n",
      "followers          4\n",
      "popularity         0\n",
      "genres             0\n",
      "chart_hits    136781\n",
      "dtype: int64\n",
      "\n",
      "Missing Values in Edges DataFrame:\n",
      "id_0    0\n",
      "id_1    0\n",
      "dtype: int64\n"
     ]
    }
   ],
   "source": [
    "# Check for missing values in nodes_df\n",
    "nodes_missing_values = nodes_df.isnull().sum()\n",
    "print(\"Missing Values in Nodes DataFrame:\")\n",
    "print(nodes_missing_values)\n",
    "\n",
    "print()\n",
    "\n",
    "# Check for missing values in edges_df\n",
    "nodes_missing_values = edges_df.isnull().sum()\n",
    "print(\"Missing Values in Edges DataFrame:\")\n",
    "print(nodes_missing_values)"
   ]
  },
  {
   "cell_type": "code",
   "execution_count": 10,
   "metadata": {},
   "outputs": [
    {
     "name": "stdout",
     "output_type": "stream",
     "text": [
      "Missing Values in Nodes DataFrame after the replacement:\n",
      "spotify_id         0\n",
      "name               0\n",
      "followers          0\n",
      "popularity         0\n",
      "genres             0\n",
      "chart_hits    136781\n",
      "dtype: int64\n"
     ]
    }
   ],
   "source": [
    "# Replace missing values in 'name' column with 'spotify_id'\n",
    "nodes_df['name'].fillna(nodes_df['spotify_id'], inplace=True)\n",
    "\n",
    "# Replace missing values in 'followers' column with 0\n",
    "nodes_df['followers'].fillna(0, inplace=True)\n",
    "\n",
    "# Check again for missing values in nodes_df\n",
    "nodes_missing_values = nodes_df.isnull().sum()\n",
    "print(\"Missing Values in Nodes DataFrame after the replacement:\")\n",
    "print(nodes_missing_values)"
   ]
  },
  {
   "cell_type": "code",
   "execution_count": 11,
   "metadata": {},
   "outputs": [
    {
     "name": "stdout",
     "output_type": "stream",
     "text": [
      "No duplicate rows found in Nodes DataFrame.\n"
     ]
    },
    {
     "name": "stdout",
     "output_type": "stream",
     "text": [
      "No duplicate rows found in Edges DataFrame.\n"
     ]
    }
   ],
   "source": [
    "# Check for duplicates\n",
    "duplicate_rows = nodes_df[nodes_df.duplicated()]\n",
    "\n",
    "# Print duplicate rows if any\n",
    "if not duplicate_rows.empty:\n",
    "    print(\"Duplicate rows found in Nodes DataFrame:\")\n",
    "    print(duplicate_rows)\n",
    "else:\n",
    "    print(\"No duplicate rows found in Nodes DataFrame.\")\n",
    "\n",
    "# Check for duplicates\n",
    "duplicate_rows = edges_df[edges_df.duplicated()]\n",
    "\n",
    "# Print duplicate rows if any\n",
    "if not duplicate_rows.empty:\n",
    "    print(\"Duplicate rows found in Edges DataFrame:\")\n",
    "    print(duplicate_rows)\n",
    "else:\n",
    "    print(\"No duplicate rows found in Edges DataFrame.\")"
   ]
  },
  {
   "cell_type": "code",
   "execution_count": 12,
   "metadata": {},
   "outputs": [],
   "source": [
    "# Save the cleaned dataframes\n",
    "nodes_df.to_csv(\"data/cleaned_nodes.csv\", index=False)\n",
    "edges_df.to_csv(\"data/cleaned_edges.csv\", index=False)"
   ]
  },
  {
   "cell_type": "markdown",
   "metadata": {},
   "source": [
    "## 2 Network Characterization"
   ]
  },
  {
   "cell_type": "code",
   "execution_count": 13,
   "metadata": {},
   "outputs": [],
   "source": [
    "import networkx as nx\n",
    "import matplotlib.pyplot as plt\n",
    "import numpy as np\n",
    "import random"
   ]
  },
  {
   "cell_type": "markdown",
   "metadata": {},
   "source": [
    "### 2.1 Extract Giant Component and Explanation\n",
    "- Identify and extract the giant component (if any) from the network.\n",
    "- Explain the findings: Compare the number of nodes and edges before and after extracting the giant component. Discuss the significance of the giant component in the context of the network."
   ]
  },
  {
   "cell_type": "code",
   "execution_count": 14,
   "metadata": {},
   "outputs": [
    {
     "name": "stdout",
     "output_type": "stream",
     "text": [
      "Number of NODES before extraction: 153327\n",
      "Number of EDGES before extraction: 300386\n",
      "\n",
      "Number of NODES in the giant component: 148386\n",
      "Number of EDGES in the giant component: 296770\n"
     ]
    }
   ],
   "source": [
    "# Construct the network from edges.csv\n",
    "G = nx.from_pandas_edgelist(edges_df, 'id_0', 'id_1')\n",
    "\n",
    "# Extract the giant component\n",
    "giant_component = max(nx.connected_components(G), key=len)\n",
    "\n",
    "# Create a subgraph containing only the giant component\n",
    "giant_subgraph = G.subgraph(giant_component)\n",
    "\n",
    "# Display the number of nodes and edges before and after extraction\n",
    "print(\"Number of NODES before extraction:\", G.number_of_nodes())\n",
    "print(\"Number of EDGES before extraction:\", G.number_of_edges())\n",
    "print()\n",
    "print(\"Number of NODES in the giant component:\", giant_subgraph.number_of_nodes())\n",
    "print(\"Number of EDGES in the giant component:\", giant_subgraph.number_of_edges())"
   ]
  },
  {
   "cell_type": "markdown",
   "metadata": {},
   "source": [
    "The extraction of the giant component from the \"Spotify Artist Feature Collaboration Network\" reveals a fundamental backbone of interconnectedness among artists within the Spotify ecosystem. With 148,386 nodes and 296,770 edges, the giant component represents a substantial and cohesive network where the majority of artists are connected through direct or indirect collaborations. This interconnectedness fosters a vibrant environment for creative exchange, enabling artists to explore diverse musical styles, reach new audiences, and forge meaningful collaborations. The presence of the giant component underscores the resilience and robustness of the network, ensuring the continuity of collaborative interactions even in the face of disruptions. Moreover, within the giant component, influential artists may emerge as central figures, shaping trends, driving innovation, and catalyzing the evolution of musical genres."
   ]
  },
  {
   "cell_type": "markdown",
   "metadata": {},
   "source": [
    "### 2.2 Characterize the Network with Relevant Measures\n",
    "Calculate and discuss the following network measures:\n",
    "  - Average degree\n",
    "  - Average shortest path length (calculated on the giant component of a sample of 25% of the original network)\n",
    "  - Network diameter (calculated on the giant component of a sample of 25% of the original network)\n",
    "  - Clustering coefficient\n",
    "\n",
    "Due to the large size of the original network, calculating the average shortest path length and network diameter directly on the entire network would be computationally expensive and time-consuming. To mitigate this issue, a sample of 25% of the original network is taken, and these measures are calculated on the giant component of this sample. This approach allows us to obtain reasonable estimates of the average shortest path length and network diameter while reducing computational complexity."
   ]
  },
  {
   "cell_type": "code",
   "execution_count": 18,
   "metadata": {},
   "outputs": [
    {
     "name": "stdout",
     "output_type": "stream",
     "text": [
      "Number of NODES before extraction: 38331\n",
      "Number of EDGES before extraction: 18596\n",
      "\n",
      "Number of NODES in the giant component: 11725\n",
      "Number of EDGES in the giant component: 16432\n"
     ]
    }
   ],
   "source": [
    "# Subsample the giant component\n",
    "\n",
    "# Randomly select 25% of the nodes for subsampling\n",
    "sampled_nodes = random.sample(list(G.nodes()), int(G.number_of_nodes() * 0.25))\n",
    "\n",
    "# Create a subgraph containing only the sampled nodes\n",
    "subgraph_sampled = G.subgraph(sampled_nodes)\n",
    "\n",
    "# Extract the giant component\n",
    "giant_component_sampled = max(nx.connected_components(subgraph_sampled), key=len)\n",
    "\n",
    "# Create a subgraph containing only the giant component\n",
    "giant_subgraph_sampled = subgraph_sampled.subgraph(giant_component_sampled)\n",
    "\n",
    "print(\"Number of NODES before extraction:\", subgraph_sampled.number_of_nodes())\n",
    "print(\"Number of EDGES before extraction:\", subgraph_sampled.number_of_edges())\n",
    "print()\n",
    "print(\"Number of NODES in the giant component:\", giant_subgraph_sampled.number_of_nodes())\n",
    "print(\"Number of EDGES in the giant component:\", giant_subgraph_sampled.number_of_edges())"
   ]
  },
  {
   "cell_type": "code",
   "execution_count": null,
   "metadata": {},
   "outputs": [],
   "source": [
    "# Plot the entire network\n",
    "plt.figure(figsize=(12, 12))\n",
    "pos = nx.spring_layout(subgraph_sampled)  # Positions for all nodes\n",
    "nx.draw_networkx_nodes(subgraph_sampled, pos, node_size=10, alpha=0.3)\n",
    "nx.draw_networkx_edges(subgraph_sampled, pos, alpha=0.1)\n",
    "\n",
    "# Highlight the giant subgraph\n",
    "nx.draw_networkx_nodes(giant_subgraph_sampled, pos, node_size=10, node_color='r', alpha=0.5)\n",
    "nx.draw_networkx_edges(giant_subgraph_sampled, pos, alpha=0.5, edge_color='r')\n",
    "\n",
    "plt.title(\"Spotify Artist Feature Collaboration Network with Giant Component Highlighted\")\n",
    "plt.show()"
   ]
  },
  {
   "cell_type": "code",
   "execution_count": 21,
   "metadata": {},
   "outputs": [
    {
     "name": "stdout",
     "output_type": "stream",
     "text": [
      "Average Degree: 3.9182401012215724\n",
      "Clustering Coefficient: 0.08239452364659447\n",
      "\n",
      "Average Shortest Path Length (Subsampled Giant Component): 7.560911899647855\n",
      "Diameter (Subsampled Giant Component): 24\n"
     ]
    }
   ],
   "source": [
    "# Calculate relevant network measures\n",
    "avg_degree = sum(dict(G.degree()).values()) / len(G)\n",
    "clustering_coefficient = nx.average_clustering(G)\n",
    "\n",
    "# Calculate relevant network measures for the subsampled giant component\n",
    "avg_shortest_path_length = nx.average_shortest_path_length(giant_subgraph_sampled)\n",
    "diameter = nx.diameter(giant_subgraph_sampled)\n",
    "\n",
    "\n",
    "print(\"Average Degree:\", avg_degree)\n",
    "print(\"Clustering Coefficient:\", clustering_coefficient)\n",
    "\n",
    "print()\n",
    "\n",
    "print(\"Average Shortest Path Length (Subsampled Giant Component):\", avg_shortest_path_length)\n",
    "print(\"Diameter (Subsampled Giant Component):\", diameter)"
   ]
  },
  {
   "cell_type": "markdown",
   "metadata": {},
   "source": [
    "#### Interpretation of Network Characterization Measures\n",
    "\n",
    "##### Average Degree:\n",
    "The average degree of approximately 3.92 suggests that, on average, each artist in the network collaborates with around 4 other artists. In the context of the music industry, this indicates a significant level of collaboration among artists, reflecting the prevalent practice of featuring other artists in songs or albums. The relatively high average degree underscores the interconnectedness of the music industry, where artists frequently collaborate to create new music and reach wider audiences.\n",
    "\n",
    "##### Clustering Coefficient:\n",
    "The clustering coefficient of approximately 0.082 indicates that there is a moderate level of clustering or local connectivity in the network. In the context of the music industry, this suggests the existence of artist communities or cliques where collaborations are frequent and artists often work with others within their social circles or genre-specific groups. These clusters may represent sub-genres, music labels, or artist collectives where collaborations are more common due to shared interests and networks.\n",
    "\n",
    "##### Average Shortest Path Length and Diameter:\n",
    "The average shortest path length of approximately 7.56 and a diameter of 24 within the subsampled giant component suggest that the network has a relatively short average distance between artists, facilitating efficient communication and collaboration. However, the diameter indicates that there are still some distant connections within the network, reflecting the diversity of collaborations across different genres, regions, or popularity levels."
   ]
  },
  {
   "cell_type": "code",
   "execution_count": 22,
   "metadata": {},
   "outputs": [],
   "source": [
    "# Create a DataFrame with the results\n",
    "results_df = pd.DataFrame({\n",
    "    'Measure': ['Average Degree', 'Clustering Coefficient', 'Average Shortest Path Length (Subsampled Giant Component)', 'Diameter (Subsampled Giant Component)'],\n",
    "    'Value': [avg_degree, clustering_coefficient, avg_shortest_path_length, diameter]\n",
    "})\n",
    "\n",
    "# Save the DataFrame to a CSV file\n",
    "results_df.to_csv('network_measures.csv', index=False)"
   ]
  },
  {
   "cell_type": "markdown",
   "metadata": {},
   "source": [
    "## 3 Centrality Measures and Identification of Relevant Nodes"
   ]
  },
  {
   "cell_type": "markdown",
   "metadata": {},
   "source": [
    "### 3.1 Centrality Measures Analysis\n",
    "Calculate centrality measures such as:\n",
    "- degree centrality\n",
    "- closeness centrality\n",
    "- betweenness centrality\n",
    "- PageRank\n",
    "- HITS (Hubs and Authorities)\n",
    "- eigenvector centrality."
   ]
  },
  {
   "cell_type": "code",
   "execution_count": 23,
   "metadata": {},
   "outputs": [],
   "source": [
    "# Calculate centrality measures\n",
    "closeness_centrality = nx.closeness_centrality(giant_subgraph_sampled)\n",
    "betweenness_centrality = nx.betweenness_centrality(giant_subgraph_sampled)\n",
    "\n",
    "degree_centrality = nx.degree_centrality(giant_subgraph_sampled)\n",
    "pagerank = nx.pagerank(giant_subgraph_sampled)\n",
    "hubs, authorities = nx.hits(giant_subgraph_sampled)\n",
    "eigenvector_centrality = nx.eigenvector_centrality(giant_subgraph_sampled)\n",
    "\n",
    "# Create DataFrames for each centrality measure\n",
    "closeness_centrality_df = pd.DataFrame(list(closeness_centrality.items()), columns=['Node', 'Closeness Centrality'])\n",
    "betweenness_centrality_df = pd.DataFrame(list(betweenness_centrality.items()), columns=['Node', 'Betweenness Centrality'])\n",
    "degree_centrality_df = pd.DataFrame(list(degree_centrality.items()), columns=['Node', 'Degree Centrality'])\n",
    "pagerank_df = pd.DataFrame(list(pagerank.items()), columns=['Node', 'PageRank'])\n",
    "hubs_df = pd.DataFrame(list(hubs.items()), columns=['Node', 'Hub Score'])\n",
    "authorities_df = pd.DataFrame(list(authorities.items()), columns=['Node', 'Authority Score'])\n",
    "eigenvector_centrality_df = pd.DataFrame(list(eigenvector_centrality.items()), columns=['Node', 'Eigenvector Centrality'])\n",
    "\n",
    "# Merge all DataFrames\n",
    "centrality_df = pd.merge(closeness_centrality_df, betweenness_centrality_df, on='Node')\n",
    "centrality_df = pd.merge(centrality_df, degree_centrality_df, on='Node')\n",
    "centrality_df = pd.merge(centrality_df, pagerank_df, on='Node')\n",
    "centrality_df = pd.merge(centrality_df, hubs_df, on='Node')\n",
    "centrality_df = pd.merge(centrality_df, authorities_df, on='Node')\n",
    "centrality_df = pd.merge(centrality_df, eigenvector_centrality_df, on='Node')\n",
    "\n",
    "# Save the DataFrame to a CSV file\n",
    "centrality_df.to_csv('centrality_measures.csv', index=False)"
   ]
  },
  {
   "cell_type": "code",
   "execution_count": 27,
   "metadata": {},
   "outputs": [
    {
     "data": {
      "text/html": [
       "<div>\n",
       "<style scoped>\n",
       "    .dataframe tbody tr th:only-of-type {\n",
       "        vertical-align: middle;\n",
       "    }\n",
       "\n",
       "    .dataframe tbody tr th {\n",
       "        vertical-align: top;\n",
       "    }\n",
       "\n",
       "    .dataframe thead th {\n",
       "        text-align: right;\n",
       "    }\n",
       "</style>\n",
       "<table border=\"1\" class=\"dataframe\">\n",
       "  <thead>\n",
       "    <tr style=\"text-align: right;\">\n",
       "      <th></th>\n",
       "      <th>Node</th>\n",
       "      <th>Closeness Centrality</th>\n",
       "      <th>Betweenness Centrality</th>\n",
       "      <th>Degree Centrality</th>\n",
       "      <th>PageRank</th>\n",
       "      <th>Hub Score</th>\n",
       "      <th>Authority Score</th>\n",
       "      <th>Eigenvector Centrality</th>\n",
       "    </tr>\n",
       "  </thead>\n",
       "  <tbody>\n",
       "    <tr>\n",
       "      <th>0</th>\n",
       "      <td>6HObKCGcJkXr84jyo0ZzPp</td>\n",
       "      <td>0.131910</td>\n",
       "      <td>0.000000</td>\n",
       "      <td>0.000084</td>\n",
       "      <td>0.000043</td>\n",
       "      <td>1.901105e-07</td>\n",
       "      <td>1.901105e-07</td>\n",
       "      <td>3.559657e-06</td>\n",
       "    </tr>\n",
       "    <tr>\n",
       "      <th>1</th>\n",
       "      <td>2asG9hKxCIfcTnoHGezUW9</td>\n",
       "      <td>0.091670</td>\n",
       "      <td>0.000000</td>\n",
       "      <td>0.000084</td>\n",
       "      <td>0.000047</td>\n",
       "      <td>7.206470e-12</td>\n",
       "      <td>7.206470e-12</td>\n",
       "      <td>1.291454e-10</td>\n",
       "    </tr>\n",
       "    <tr>\n",
       "      <th>2</th>\n",
       "      <td>2XRVqqdNOt779uXNFA1Fhv</td>\n",
       "      <td>0.145692</td>\n",
       "      <td>0.000335</td>\n",
       "      <td>0.000167</td>\n",
       "      <td>0.000068</td>\n",
       "      <td>1.568094e-06</td>\n",
       "      <td>1.568094e-06</td>\n",
       "      <td>2.678956e-05</td>\n",
       "    </tr>\n",
       "    <tr>\n",
       "      <th>3</th>\n",
       "      <td>5IHqlcCbQkyhWl0KmIwgeq</td>\n",
       "      <td>0.183836</td>\n",
       "      <td>0.001335</td>\n",
       "      <td>0.000586</td>\n",
       "      <td>0.000150</td>\n",
       "      <td>3.497802e-05</td>\n",
       "      <td>3.497802e-05</td>\n",
       "      <td>6.229484e-04</td>\n",
       "    </tr>\n",
       "    <tr>\n",
       "      <th>4</th>\n",
       "      <td>00w9sdZ78mWArooTmiSTld</td>\n",
       "      <td>0.105827</td>\n",
       "      <td>0.000404</td>\n",
       "      <td>0.000251</td>\n",
       "      <td>0.000109</td>\n",
       "      <td>1.343074e-10</td>\n",
       "      <td>1.343074e-10</td>\n",
       "      <td>2.459117e-09</td>\n",
       "    </tr>\n",
       "  </tbody>\n",
       "</table>\n",
       "</div>"
      ],
      "text/plain": [
       "                     Node  Closeness Centrality  Betweenness Centrality  \\\n",
       "0  6HObKCGcJkXr84jyo0ZzPp              0.131910                0.000000   \n",
       "1  2asG9hKxCIfcTnoHGezUW9              0.091670                0.000000   \n",
       "2  2XRVqqdNOt779uXNFA1Fhv              0.145692                0.000335   \n",
       "3  5IHqlcCbQkyhWl0KmIwgeq              0.183836                0.001335   \n",
       "4  00w9sdZ78mWArooTmiSTld              0.105827                0.000404   \n",
       "\n",
       "   Degree Centrality  PageRank     Hub Score  Authority Score  \\\n",
       "0           0.000084  0.000043  1.901105e-07     1.901105e-07   \n",
       "1           0.000084  0.000047  7.206470e-12     7.206470e-12   \n",
       "2           0.000167  0.000068  1.568094e-06     1.568094e-06   \n",
       "3           0.000586  0.000150  3.497802e-05     3.497802e-05   \n",
       "4           0.000251  0.000109  1.343074e-10     1.343074e-10   \n",
       "\n",
       "   Eigenvector Centrality  \n",
       "0            3.559657e-06  \n",
       "1            1.291454e-10  \n",
       "2            2.678956e-05  \n",
       "3            6.229484e-04  \n",
       "4            2.459117e-09  "
      ]
     },
     "execution_count": 27,
     "metadata": {},
     "output_type": "execute_result"
    }
   ],
   "source": [
    "centrality_df.head(5)"
   ]
  },
  {
   "cell_type": "markdown",
   "metadata": {},
   "source": [
    "### 3.2 Identification of Relevant Nodes\n",
    "- Analyze the centrality measures to identify the most relevant nodes in the network.\n",
    "- Discuss the significance of these nodes and their roles within the network."
   ]
  },
  {
   "cell_type": "code",
   "execution_count": 30,
   "metadata": {},
   "outputs": [
    {
     "name": "stdout",
     "output_type": "stream",
     "text": [
      "\n",
      "Most Central Nodes:\n",
      "Degree Centrality:\n",
      "Mc Gw 0.018583626318432946\n",
      "Jean Sibelius 0.01247279424075004\n",
      "Diplo 0.010798593671521847\n",
      "Snoop Dogg 0.009124393102293654\n",
      "Pritam 0.007450192533065461\n",
      "Andrea Bocelli 0.007366482504604051\n",
      "G. V. Prakash 0.006110832077682906\n",
      "Rick Ross 0.005441151849991628\n",
      "Lil Wayne 0.004938891679223171\n",
      "Don Diablo 0.0048551816507617605\n",
      "\n",
      "Closeness Centrality:\n",
      "Diplo 0.2278118921392883\n",
      "Snoop Dogg 0.21639344262295082\n",
      "Anitta 0.21559674421122924\n",
      "Lil Wayne 0.21520059087388085\n",
      "Dillon Francis 0.21054301274255802\n",
      "Calvin Harris 0.21036134394590406\n",
      "Khalid 0.20914597850064778\n",
      "Yellow Claw 0.20824544582933846\n",
      "G-Eazy 0.20819463566810156\n",
      "Sia 0.20789029462436698\n",
      "\n",
      "Betweenness Centrality:\n",
      "Diplo 0.20754309192373555\n",
      "Snoop Dogg 0.1218207762854149\n",
      "Anitta 0.07018396939313132\n",
      "Pritam 0.05520175485507936\n",
      "MC Lan 0.04571958559131806\n",
      "Yellow Claw 0.04474073544084224\n",
      "Lukas Graham 0.04394836203276162\n",
      "Don Diablo 0.043915028839767764\n",
      "Tropkillaz 0.04245343525967242\n",
      "G-Eazy 0.04118628728126513\n",
      "\n",
      "PageRank:\n",
      "Jean Sibelius 0.005684354128284769\n",
      "Mc Gw 0.005600660536356624\n",
      "Andrea Bocelli 0.002988286064287838\n",
      "Diplo 0.0027665683352243622\n",
      "Pritam 0.0026142379588903414\n",
      "Snoop Dogg 0.0025585117386307025\n",
      "G. V. Prakash 0.0022736470276971577\n",
      "Gardemusikken 0.0020600516550781803\n",
      "The voice of Holland 0.001960500480247047\n",
      "The Noise 0.0017757087372101683\n",
      "\n",
      "Hubs:\n",
      "Mc Gw 0.03696555035321266\n",
      "Mc Kitinho 0.00940197622984427\n",
      "MC CH da Z.O 0.0089368801494612\n",
      "Mc Cyclope 0.008812378574186949\n",
      "Mc Rennan 0.008653800511664042\n",
      "Mc Dricka 0.008251988503044237\n",
      "MC Yuri 0.008090005527072598\n",
      "mc jhenny 0.007947613828528833\n",
      "Mc Jajau 0.007818586103963375\n",
      "MC Reino 0.007698013934475482\n",
      "\n",
      "Authorities:\n",
      "Mc Gw 0.03696555035321257\n",
      "Mc Kitinho 0.009401976229844271\n",
      "MC CH da Z.O 0.008936880149461191\n",
      "Mc Cyclope 0.008812378574186954\n",
      "Mc Rennan 0.008653800511664034\n",
      "Mc Dricka 0.00825198850304424\n",
      "MC Yuri 0.008090005527072591\n",
      "mc jhenny 0.007947613828528842\n",
      "Mc Jajau 0.007818586103963373\n",
      "MC Reino 0.00769801393447548\n",
      "\n",
      "Eigenvector Centrality:\n",
      "Mc Gw 0.5928501128418311\n",
      "Mc Kitinho 0.15078554727789395\n",
      "MC CH da Z.O 0.1433307486894324\n",
      "Mc Cyclope 0.14133039376120382\n",
      "Mc Rennan 0.13879732513513396\n",
      "Mc Dricka 0.13237242897023377\n",
      "MC Yuri 0.12974966839436958\n",
      "mc jhenny 0.12746323942510585\n",
      "Mc Jajau 0.1253896911824507\n",
      "MC Reino 0.12347778710898698\n"
     ]
    }
   ],
   "source": [
    "# Identify the most relevant nodes based on centrality measures\n",
    "most_central_nodes_degree = sorted(degree_centrality, key=degree_centrality.get, reverse=True)[:10]\n",
    "most_central_nodes_closeness = sorted(closeness_centrality, key=closeness_centrality.get, reverse=True)[:10]\n",
    "most_central_nodes_betweenness = sorted(betweenness_centrality, key=betweenness_centrality.get, reverse=True)[:10]\n",
    "most_central_nodes_pagerank = sorted(pagerank, key=pagerank.get, reverse=True)[:10]\n",
    "most_central_nodes_hubs = sorted(hubs, key=hubs.get, reverse=True)[:10]\n",
    "most_central_nodes_authorities = sorted(authorities, key=authorities.get, reverse=True)[:10]\n",
    "most_central_nodes_eigenvector = sorted(eigenvector_centrality, key=eigenvector_centrality.get, reverse=True)[:10]\n",
    "\n",
    "# Display the most relevant nodes along with their centrality measures\n",
    "print(\"\\nMost Central Nodes:\")\n",
    "print(\"Degree Centrality:\")\n",
    "for node in most_central_nodes_degree:\n",
    "    name = nodes_df.loc[nodes_df['spotify_id'] == node, 'name'].iloc[0]\n",
    "    print(name, degree_centrality[node])\n",
    "print(\"\\nCloseness Centrality:\")\n",
    "for node in most_central_nodes_closeness:\n",
    "    name = nodes_df.loc[nodes_df['spotify_id'] == node, 'name'].iloc[0]\n",
    "    print(name, closeness_centrality[node])\n",
    "print(\"\\nBetweenness Centrality:\")\n",
    "for node in most_central_nodes_betweenness:\n",
    "    name = nodes_df.loc[nodes_df['spotify_id'] == node, 'name'].iloc[0]\n",
    "    print(name, betweenness_centrality[node])\n",
    "print(\"\\nPageRank:\")\n",
    "for node in most_central_nodes_pagerank:\n",
    "    name = nodes_df.loc[nodes_df['spotify_id'] == node, 'name'].iloc[0]\n",
    "    print(name, pagerank[node])\n",
    "print(\"\\nHubs:\")\n",
    "for node in most_central_nodes_hubs:\n",
    "    name = nodes_df.loc[nodes_df['spotify_id'] == node, 'name'].iloc[0]\n",
    "    print(name, hubs[node])\n",
    "print(\"\\nAuthorities:\")\n",
    "for node in most_central_nodes_authorities:\n",
    "    name = nodes_df.loc[nodes_df['spotify_id'] == node, 'name'].iloc[0]\n",
    "    print(name, authorities[node])\n",
    "print(\"\\nEigenvector Centrality:\")\n",
    "for node in most_central_nodes_eigenvector:\n",
    "    name = nodes_df.loc[nodes_df['spotify_id'] == node, 'name'].iloc[0]\n",
    "    print(name, eigenvector_centrality[node])"
   ]
  },
  {
   "cell_type": "markdown",
   "metadata": {},
   "source": [
    "#### Detailed Interpretation of Centrality Measures:\n",
    "\n",
    "1. **Degree Centrality**:\n",
    "   - Mc Gw, Jean Sibelius, Diplo, and Snoop Dogg are among the top nodes based on degree centrality, indicating their extensive collaboration networks. Mc Gw, a prominent figure in the network, collaborates with a diverse range of artists, potentially spanning multiple genres or styles. Jean Sibelius, known for classical compositions, demonstrates that even within a specific genre, artists can have significant collaborative networks. Diplo and Snoop Dogg, representing different genres (electronic and hip-hop, respectively), showcase the breadth of collaborative opportunities within the network.\n",
    "\n",
    "2. **Closeness Centrality**:\n",
    "   - Diplo, Snoop Dogg, Anitta, and Lil Wayne possess high closeness centrality, implying their accessibility and influence within the network. Diplo, a versatile producer and DJ, maintains close ties with numerous artists, enabling rapid dissemination of ideas and collaborations. Snoop Dogg, a veteran rapper, retains a central position, indicating his influence and accessibility within the hip-hop community. Anitta, a Brazilian pop star, demonstrates international connectivity, while Lil Wayne's presence underscores his influence in the rap industry.\n",
    "\n",
    "3. **Betweenness Centrality**:\n",
    "   - Diplo, Snoop Dogg, Anitta, and Pritam exhibit high betweenness centrality, highlighting their role as intermediaries or connectors between different artist groups. Diplo's diverse collaborations bridge various music scenes, fostering cross-genre interactions. Snoop Dogg's longstanding presence in hip-hop positions him as a conduit for collaborations between emerging and established artists. Anitta's betweenness centrality reflects her role in linking artists across cultural and linguistic boundaries, particularly within the Latin music sphere. Pritam, a prominent Bollywood composer, serves as a bridge between traditional and contemporary Indian music.\n",
    "\n",
    "4. **PageRank**:\n",
    "   - Jean Sibelius, Mc Gw, Andrea Bocelli, and Diplo rank highest in PageRank, indicating their prominence within the network's collaborative landscape. Jean Sibelius's classical compositions continue to resonate with contemporary artists, elevating his importance in the network. Mc Gw's high PageRank signifies his widespread influence and relevance across various music genres and platforms. Andrea Bocelli's classical and operatic repertoire earns him recognition among a diverse range of artists, while Diplo's innovative productions and collaborations cement his status as a key influencer in the modern music industry.\n",
    "\n",
    "5. **Hubs and Authorities**:\n",
    "   - Mc Gw, Mc Kitinho, MC CH da Z.O, and Mc Cyclope emerge as top hubs and authorities, indicating their dual roles as influential collaborators and highly referenced artists. Mc Gw's dominance in both categories underscores his central position and widespread recognition within the network. Mc Kitinho, MC CH da Z.O, and Mc Cyclope represent regional hubs, exerting considerable influence within their respective music scenes while garnering acknowledgment from artists across different regions and genres.\n",
    "\n",
    "6. **Eigenvector Centrality**:\n",
    "   - Mc Gw, Mc Kitinho, MC CH da Z.O, and Mc Cyclope demonstrate high eigenvector centrality, reflecting their connections to other influential artists in the network. Mc Gw's extensive collaborations with highly regarded artists contribute to his elevated status and influence. Mc Kitinho, MC CH da Z.O, and Mc Cyclope's prominence underscores their pivotal roles in shaping the network's collaborative dynamics, with their collaborations reverberating across various music communities.\n"
   ]
  },
  {
   "cell_type": "markdown",
   "metadata": {},
   "source": [
    "## 4 Comparison with a Random Network and Small-World Phenomenon"
   ]
  },
  {
   "cell_type": "markdown",
   "metadata": {},
   "source": [
    "### 4.1 Justification of Significance Compared with a Random Network\n",
    "- Generate an equivalent random network and compare its properties with the observed network.\n",
    "- Justify the significance of the observed network's properties compared to the random network.\n",
    "- Discuss any deviations or similarities observed and their implications for the network's structure and behavior."
   ]
  },
  {
   "cell_type": "code",
   "execution_count": 38,
   "metadata": {},
   "outputs": [
    {
     "name": "stdout",
     "output_type": "stream",
     "text": [
      "Number of NODES before extraction: 38331\n",
      "Number of EDGES before extraction: 18727\n",
      "\n",
      "Number of NODES in the giant component: 435\n",
      "Number of EDGES in the giant component: 434\n"
     ]
    }
   ],
   "source": [
    "# Generate an equivalent random network\n",
    "random_network = nx.gnm_random_graph(G.number_of_nodes(), G.number_of_edges())\n",
    "\n",
    "# Subsample the giant component\n",
    "\n",
    "# Randomly select 25% of the nodes for subsampling\n",
    "random_sampled_nodes = random.sample(list(random_network.nodes()), int(random_network.number_of_nodes() * 0.25))\n",
    "\n",
    "# Create a subgraph containing only the sampled nodes\n",
    "random_subgraph_sampled = random_network.subgraph(random_sampled_nodes)\n",
    "\n",
    "# Extract the giant component\n",
    "random_giant_component_sampled = max(nx.connected_components(random_subgraph_sampled), key=len)\n",
    "\n",
    "# Create a subgraph containing only the giant component\n",
    "random_giant_subgraph_sampled = random_subgraph_sampled.subgraph(random_giant_component_sampled)\n",
    "\n",
    "print(\"Number of NODES before extraction:\", random_subgraph_sampled.number_of_nodes())\n",
    "print(\"Number of EDGES before extraction:\", random_subgraph_sampled.number_of_edges())\n",
    "print()\n",
    "print(\"Number of NODES in the giant component:\", random_giant_subgraph_sampled.number_of_nodes())\n",
    "print(\"Number of EDGES in the giant component:\", random_giant_subgraph_sampled.number_of_edges())"
   ]
  },
  {
   "cell_type": "code",
   "execution_count": null,
   "metadata": {},
   "outputs": [],
   "source": [
    "# Calculate relevant network measures\n",
    "random_avg_degree = np.mean(list(dict(random_network.degree()).values()))\n",
    "random_avg_clustering_coefficient = nx.average_clustering(random_network)\n",
    "\n",
    "# Calculate relevant network measures for the subsampled giant component\n",
    "random_avg_shortest_path = nx.average_shortest_path_length(random_giant_subgraph_sampled)\n",
    "random_diameter = nx.diameter(random_giant_subgraph_sampled)"
   ]
  },
  {
   "cell_type": "code",
   "execution_count": 40,
   "metadata": {},
   "outputs": [
    {
     "name": "stdout",
     "output_type": "stream",
     "text": [
      "Observed Network:\n",
      "Average Degree: 3.9182401012215724\n",
      "Clustering Coefficient: 0.08239452364659447\n",
      "Average Shortest Path Length (Subsampled Giant Component): 7.560911899647855\n",
      "Diameter (Subsampled Giant Component): 24\n",
      "\n",
      "Random Network:\n",
      "Average Degree of the random network: 3.9182401012215724\n",
      "Clustering Coefficient of the random network: 2.024410739118521e-05\n",
      "Average Shortest Path Length of the random network (Subsampled Giant Component): 29.75081307272631\n",
      "Diameter of the random network (Subsampled Giant Component): 68\n"
     ]
    }
   ],
   "source": [
    "# Compare properties with the observed network\n",
    "print(\"Observed Network:\")\n",
    "print(\"Average Degree:\", avg_degree)\n",
    "print(\"Clustering Coefficient:\", clustering_coefficient)\n",
    "print(\"Average Shortest Path Length (Subsampled Giant Component):\", avg_shortest_path_length)\n",
    "print(\"Diameter (Subsampled Giant Component):\", diameter)\n",
    "\n",
    "print(\"\\nRandom Network:\")\n",
    "print(\"Average Degree of the random network:\", random_avg_degree)\n",
    "print(\"Clustering Coefficient of the random network:\", random_avg_clustering_coefficient)\n",
    "print(\"Average Shortest Path Length of the random network (Subsampled Giant Component):\", random_avg_shortest_path)\n",
    "print(\"Diameter of the random network (Subsampled Giant Component):\", random_diameter)"
   ]
  },
  {
   "cell_type": "markdown",
   "metadata": {},
   "source": [
    "#### Comparison of Network Measures: Observed vs. Random Network\n",
    "\n",
    "The observed network measures from the original network compared to those from the random network reveal significant differences and similarities:\n",
    "\n",
    "1. **Average Degree**:\n",
    "   - The average degree of both the observed and random networks is approximately 3.92, indicating a similar level of connectivity in terms of the average number of collaborations per artist. This similarity suggests that, on average, artists in the observed network collaborate with a similar number of other artists as expected in a random network.\n",
    "\n",
    "2. **Clustering Coefficient**:\n",
    "   - The clustering coefficient of the observed network (0.082) is significantly higher than that of the random network (2.02e-05). This difference suggests that the observed network exhibits a much higher level of clustering or transitivity, meaning that artists tend to form tightly-knit clusters or communities where collaborations are more likely to occur between connected artists. In contrast, the random network lacks this clustering pattern, with collaborations occurring more randomly without forming cohesive clusters.\n",
    "\n",
    "3. **Average Shortest Path Length**:\n",
    "   - The average shortest path length of the observed network (7.56) is shorter than that of the random network (29.75), indicating a higher degree of connectivity and accessibility between artists in the observed network. A shorter average shortest path length suggests that artists in the observed network are more closely connected and can reach each other more quickly through collaboration chains compared to the random network, where collaborations are less efficient and take longer to establish.\n",
    "\n",
    "4. **Diameter**:\n",
    "   - The diameter of the observed network (24) is smaller than that of the random network (68), indicating a more compact and interconnected structure in the observed network. A smaller diameter suggests that the observed network has shorter paths between any two artists compared to the random network, further emphasizing the higher connectivity and efficiency of collaborations within the observed network."
   ]
  },
  {
   "cell_type": "markdown",
   "metadata": {},
   "source": [
    "### 4.2 Presence of Small-World Phenomenon\n",
    "- Investigate whether the observed network exhibits the small-world phenomenon.\n",
    "- Calculate relevant measures such as average clustering coefficient and average shortest path length.\n",
    "- Compare these measures to those of a random network and discuss the presence or absence of the small-world phenomenon in the observed network."
   ]
  },
  {
   "cell_type": "code",
   "execution_count": 3,
   "metadata": {},
   "outputs": [
    {
     "name": "stdout",
     "output_type": "stream",
     "text": [
      "The observed network exhibits the small-world phenomenon.\n"
     ]
    }
   ],
   "source": [
    "# Check for small-world phenomenon\n",
    "if 0.08239452364659447 > 2.024410739118521e-05 and 7.560911899647855 < 29.75081307272631:\n",
    "    print(\"The observed network exhibits the small-world phenomenon.\")\n",
    "else:\n",
    "    print(\"The observed network does not exhibit the small-world phenomenon.\")"
   ]
  },
  {
   "cell_type": "markdown",
   "metadata": {},
   "source": [
    "The small-world phenomenon observed in our Spotify Artist Feature Collaboration Network suggests an intriguing interplay between local artist communities and global connectivity. \n",
    "\n",
    "While artists tend to form tightly-knit clusters based on shared genres, collaborations, and cultural affinities, there are also remarkably short paths connecting any two artists within the network. This phenomenon underscores the efficient flow of collaborative opportunities and artistic influences across diverse musical genres and geographic locations. \n",
    "\n",
    "In the context of the music industry, the small-world property reflects the dynamic nature of collaborations and the interconnectedness of artists, facilitating the exchange of creative ideas and fostering innovation. It highlights the network's ability to bridge geographical and cultural boundaries, enabling artists to reach new audiences and explore innovative musical directions through collaborative endeavors"
   ]
  }
 ],
 "metadata": {
  "kernelspec": {
   "display_name": "base",
   "language": "python",
   "name": "python3"
  },
  "language_info": {
   "codemirror_mode": {
    "name": "ipython",
    "version": 3
   },
   "file_extension": ".py",
   "mimetype": "text/x-python",
   "name": "python",
   "nbconvert_exporter": "python",
   "pygments_lexer": "ipython3",
   "version": "3.11.7"
  }
 },
 "nbformat": 4,
 "nbformat_minor": 2
}
